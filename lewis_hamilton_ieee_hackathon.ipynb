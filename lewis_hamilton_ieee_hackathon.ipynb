{
  "cells": [
    {
      "cell_type": "markdown",
      "metadata": {
        "id": "view-in-github",
        "colab_type": "text"
      },
      "source": [
        "<a href=\"https://colab.research.google.com/github/adityajha2005/F1_datathon/blob/main/lewis_hamilton_ieee_hackathon.ipynb\" target=\"_parent\"><img src=\"https://colab.research.google.com/assets/colab-badge.svg\" alt=\"Open In Colab\"/></a>"
      ]
    },
    {
      "cell_type": "markdown",
      "metadata": {
        "_cell_guid": "686000cb-0024-425b-a706-3c658c6d850c",
        "_uuid": "e92cc6db-eb1a-42e7-8044-3c94922110c2",
        "id": "XlocLUYRy7Bs",
        "trusted": true
      },
      "source": [
        "Importing dependencies"
      ]
    },
    {
      "cell_type": "code",
      "execution_count": null,
      "metadata": {
        "_cell_guid": "c5178f05-5b5b-4c34-af35-35cbd0a4b490",
        "_uuid": "c7bf0629-6090-4b27-95f2-806fd39142fb",
        "execution": {
          "iopub.execute_input": "2024-06-28T15:05:24.623011Z",
          "iopub.status.busy": "2024-06-28T15:05:24.622545Z",
          "iopub.status.idle": "2024-06-28T15:06:01.464696Z",
          "shell.execute_reply": "2024-06-28T15:06:01.463300Z",
          "shell.execute_reply.started": "2024-06-28T15:05:24.622972Z"
        },
        "id": "UDNm8iyrzXqe",
        "jupyter": {
          "outputs_hidden": false
        },
        "trusted": true,
        "colab": {
          "base_uri": "https://localhost:8080/"
        },
        "outputId": "ff898185-1b10-4f0f-cbaa-7cfc448aaaa0"
      },
      "outputs": [
        {
          "output_type": "stream",
          "name": "stdout",
          "text": [
            "Requirement already satisfied: scikit-learn in /usr/local/lib/python3.10/dist-packages (1.2.2)\n",
            "Requirement already satisfied: numpy>=1.17.3 in /usr/local/lib/python3.10/dist-packages (from scikit-learn) (1.25.2)\n",
            "Requirement already satisfied: scipy>=1.3.2 in /usr/local/lib/python3.10/dist-packages (from scikit-learn) (1.11.4)\n",
            "Requirement already satisfied: joblib>=1.1.1 in /usr/local/lib/python3.10/dist-packages (from scikit-learn) (1.4.2)\n",
            "Requirement already satisfied: threadpoolctl>=2.0.0 in /usr/local/lib/python3.10/dist-packages (from scikit-learn) (3.5.0)\n",
            "Requirement already satisfied: scikit-optimize in /usr/local/lib/python3.10/dist-packages (0.10.2)\n",
            "Requirement already satisfied: joblib>=0.11 in /usr/local/lib/python3.10/dist-packages (from scikit-optimize) (1.4.2)\n",
            "Requirement already satisfied: pyaml>=16.9 in /usr/local/lib/python3.10/dist-packages (from scikit-optimize) (24.4.0)\n",
            "Requirement already satisfied: numpy>=1.20.3 in /usr/local/lib/python3.10/dist-packages (from scikit-optimize) (1.25.2)\n",
            "Requirement already satisfied: scipy>=1.1.0 in /usr/local/lib/python3.10/dist-packages (from scikit-optimize) (1.11.4)\n",
            "Requirement already satisfied: scikit-learn>=1.0.0 in /usr/local/lib/python3.10/dist-packages (from scikit-optimize) (1.2.2)\n",
            "Requirement already satisfied: packaging>=21.3 in /usr/local/lib/python3.10/dist-packages (from scikit-optimize) (24.1)\n",
            "Requirement already satisfied: PyYAML in /usr/local/lib/python3.10/dist-packages (from pyaml>=16.9->scikit-optimize) (6.0.1)\n",
            "Requirement already satisfied: threadpoolctl>=2.0.0 in /usr/local/lib/python3.10/dist-packages (from scikit-learn>=1.0.0->scikit-optimize) (3.5.0)\n",
            "Requirement already satisfied: pandas in /usr/local/lib/python3.10/dist-packages (2.0.3)\n",
            "Requirement already satisfied: numpy in /usr/local/lib/python3.10/dist-packages (1.25.2)\n",
            "Requirement already satisfied: seaborn in /usr/local/lib/python3.10/dist-packages (0.13.1)\n",
            "Requirement already satisfied: matplotlib in /usr/local/lib/python3.10/dist-packages (3.7.1)\n",
            "Requirement already satisfied: python-dateutil>=2.8.2 in /usr/local/lib/python3.10/dist-packages (from pandas) (2.8.2)\n",
            "Requirement already satisfied: pytz>=2020.1 in /usr/local/lib/python3.10/dist-packages (from pandas) (2023.4)\n",
            "Requirement already satisfied: tzdata>=2022.1 in /usr/local/lib/python3.10/dist-packages (from pandas) (2024.1)\n",
            "Requirement already satisfied: contourpy>=1.0.1 in /usr/local/lib/python3.10/dist-packages (from matplotlib) (1.2.1)\n",
            "Requirement already satisfied: cycler>=0.10 in /usr/local/lib/python3.10/dist-packages (from matplotlib) (0.12.1)\n",
            "Requirement already satisfied: fonttools>=4.22.0 in /usr/local/lib/python3.10/dist-packages (from matplotlib) (4.53.0)\n",
            "Requirement already satisfied: kiwisolver>=1.0.1 in /usr/local/lib/python3.10/dist-packages (from matplotlib) (1.4.5)\n",
            "Requirement already satisfied: packaging>=20.0 in /usr/local/lib/python3.10/dist-packages (from matplotlib) (24.1)\n",
            "Requirement already satisfied: pillow>=6.2.0 in /usr/local/lib/python3.10/dist-packages (from matplotlib) (9.4.0)\n",
            "Requirement already satisfied: pyparsing>=2.3.1 in /usr/local/lib/python3.10/dist-packages (from matplotlib) (3.1.2)\n",
            "Requirement already satisfied: six>=1.5 in /usr/local/lib/python3.10/dist-packages (from python-dateutil>=2.8.2->pandas) (1.16.0)\n"
          ]
        }
      ],
      "source": [
        "!pip install scikit-learn\n",
        "!pip install scikit-optimize\n",
        "!pip install pandas numpy seaborn matplotlib"
      ]
    },
    {
      "cell_type": "code",
      "execution_count": null,
      "metadata": {
        "_cell_guid": "640e2598-f311-46ab-b165-56629a290ef6",
        "_uuid": "25660eb2-24ae-438b-b1e8-e77cec96b450",
        "execution": {
          "iopub.execute_input": "2024-06-28T15:06:01.468250Z",
          "iopub.status.busy": "2024-06-28T15:06:01.467860Z",
          "iopub.status.idle": "2024-06-28T15:06:02.688199Z",
          "shell.execute_reply": "2024-06-28T15:06:02.687404Z",
          "shell.execute_reply.started": "2024-06-28T15:06:01.468214Z"
        },
        "id": "H-9tcXNxwlPx",
        "jupyter": {
          "outputs_hidden": false
        },
        "trusted": true
      },
      "outputs": [],
      "source": [
        "import pandas as pd\n",
        "import numpy as np\n",
        "import matplotlib.pyplot as plt\n",
        "import seaborn as sns\n",
        "import plotly.graph_objects as go\n",
        "import plotly.express as px\n",
        "import datetime\n",
        "\n",
        "plt.style.use('ggplot')\n",
        "# pd.set_option('max_columns', 200)\n",
        "# pd.set_option('max_rows', 200)"
      ]
    },
    {
      "cell_type": "markdown",
      "metadata": {
        "_cell_guid": "8c53381a-5045-4047-ad60-6576ae3996d4",
        "_uuid": "8d7469c5-e067-453a-9e10-d6bd6ecbc5e7",
        "id": "HoBdR4BTy5ej",
        "trusted": true
      },
      "source": [
        "Loding datasets"
      ]
    },
    {
      "cell_type": "code",
      "source": [
        "from google.colab import drive\n",
        "drive.mount('/content/drive')"
      ],
      "metadata": {
        "colab": {
          "base_uri": "https://localhost:8080/"
        },
        "id": "y0q059oHIZ6_",
        "outputId": "fcb70130-b9ee-4617-dae5-8ab2170a861f"
      },
      "execution_count": null,
      "outputs": [
        {
          "output_type": "stream",
          "name": "stdout",
          "text": [
            "Drive already mounted at /content/drive; to attempt to forcibly remount, call drive.mount(\"/content/drive\", force_remount=True).\n"
          ]
        }
      ]
    },
    {
      "cell_type": "code",
      "execution_count": null,
      "metadata": {
        "_cell_guid": "24c1c549-5340-46bc-8fd2-8de1d3ba222d",
        "_uuid": "8ac33b1b-482a-4c47-8d88-806ce65e8965",
        "execution": {
          "iopub.execute_input": "2024-06-28T16:09:41.665534Z",
          "iopub.status.busy": "2024-06-28T16:09:41.665135Z",
          "iopub.status.idle": "2024-06-28T16:10:08.192471Z",
          "shell.execute_reply": "2024-06-28T16:10:08.191633Z",
          "shell.execute_reply.started": "2024-06-28T16:09:41.665502Z"
        },
        "id": "Y12siclWwvpX",
        "jupyter": {
          "outputs_hidden": false
        },
        "trusted": true,
        "colab": {
          "base_uri": "https://localhost:8080/"
        },
        "outputId": "d28fcd00-afd8-46b8-909f-10415e5c9acb"
      },
      "outputs": [
        {
          "output_type": "stream",
          "name": "stderr",
          "text": [
            "<ipython-input-4-8bb771195c51>:2: DtypeWarning: Columns (4,13,14,16,47) have mixed types. Specify dtype option on import or set low_memory=False.\n",
            "  train_df = pd.read_csv('/content/drive/MyDrive/Colab Notebooks/Hackathon-/train.csv')\n",
            "<ipython-input-4-8bb771195c51>:3: DtypeWarning: Columns (13,16) have mixed types. Specify dtype option on import or set low_memory=False.\n",
            "  test_df = pd.read_csv('/content/drive/MyDrive/Colab Notebooks/Hackathon-/test.csv')\n"
          ]
        }
      ],
      "source": [
        "# Load the datasets\n",
        "train_df = pd.read_csv('/content/drive/MyDrive/Colab Notebooks/Hackathon-/train.csv')\n",
        "test_df = pd.read_csv('/content/drive/MyDrive/Colab Notebooks/Hackathon-/test.csv')"
      ]
    },
    {
      "cell_type": "code",
      "execution_count": null,
      "metadata": {
        "_cell_guid": "03b268e9-0d1f-414d-ab2b-118b2ff858b4",
        "_uuid": "b0cc70e4-8324-42c8-82b8-96b97b1c20cc",
        "execution": {
          "iopub.execute_input": "2024-06-28T16:10:16.184305Z",
          "iopub.status.busy": "2024-06-28T16:10:16.183912Z",
          "iopub.status.idle": "2024-06-28T16:10:16.203952Z",
          "shell.execute_reply": "2024-06-28T16:10:16.203000Z",
          "shell.execute_reply.started": "2024-06-28T16:10:16.184272Z"
        },
        "id": "nebtSYGDxNYi",
        "jupyter": {
          "outputs_hidden": false
        },
        "trusted": true,
        "colab": {
          "base_uri": "https://localhost:8080/"
        },
        "outputId": "5ca221b8-6fcc-43fd-d6d9-be1846966f7c"
      },
      "outputs": [
        {
          "output_type": "stream",
          "name": "stdout",
          "text": [
            "   resultId  racerId  driverId  constructorId number  grid position_x  \\\n",
            "0     20025      833       642             51      2     1          1   \n",
            "1     20025      833       642             51      2     1          1   \n",
            "2     20025      833       642             51      2     1          1   \n",
            "3     20025      833       642             51      2     1          1   \n",
            "4     20025      833       642             51      2     1          1   \n",
            "\n",
            "  positionText_x  positionOrder  points  ...  points_y position  \\\n",
            "0              1              1     9.0  ...      3.33        3   \n",
            "1              1              1     9.0  ...      6.33        3   \n",
            "2              1              1     9.0  ...      6.33        4   \n",
            "3              1              1     9.0  ...     10.33        3   \n",
            "4              1              1     9.0  ...     10.33        4   \n",
            "\n",
            "  positionText_y wins constructorRef     company nationality_y  \\\n",
            "0              3    0           alfa  Alfa Romeo         Swiss   \n",
            "1              3    0           alfa  Alfa Romeo         Swiss   \n",
            "2              4    0           alfa  Alfa Romeo         Swiss   \n",
            "3              3    0           alfa  Alfa Romeo         Swiss   \n",
            "4              4    0           alfa  Alfa Romeo         Swiss   \n",
            "\n",
            "                                                 url    status  \\\n",
            "0  http://en.wikipedia.org/wiki/Alfa_Romeo_in_For...  Finished   \n",
            "1  http://en.wikipedia.org/wiki/Alfa_Romeo_in_For...  Finished   \n",
            "2  http://en.wikipedia.org/wiki/Alfa_Romeo_in_For...  Finished   \n",
            "3  http://en.wikipedia.org/wiki/Alfa_Romeo_in_For...  Finished   \n",
            "4  http://en.wikipedia.org/wiki/Alfa_Romeo_in_For...  Finished   \n",
            "\n",
            "   result_driver_standing  \n",
            "0               922731975  \n",
            "1               923172525  \n",
            "2               923833350  \n",
            "3               925195050  \n",
            "4               926576775  \n",
            "\n",
            "[5 rows x 55 columns]\n",
            "   resultId  racerId  driverId  constructorId  number  grid position_x  \\\n",
            "0     23949      997         4              1      14    13          8   \n",
            "1     23949      997         4              1      14    13          8   \n",
            "2     23949      997         4              1      14    13          8   \n",
            "3     23949      997         4              1      14    13          8   \n",
            "4     23949      997         4              1      14    13          8   \n",
            "\n",
            "  positionText_x  positionOrder  points  ...  driverStandingsId raceId_y  \\\n",
            "0              8              8     4.0  ...              12474       93   \n",
            "1              8              8     4.0  ...              12494       94   \n",
            "2              8              8     4.0  ...              12514       95   \n",
            "3              8              8     4.0  ...              12534       96   \n",
            "4              8              8     4.0  ...              12554       97   \n",
            "\n",
            "  points_y wins  constructorRef  company nationality_y  \\\n",
            "0     16.0    0         mclaren  McLaren       British   \n",
            "1     21.0    0         mclaren  McLaren       British   \n",
            "2     21.0    0         mclaren  McLaren       British   \n",
            "3     25.0    0         mclaren  McLaren       British   \n",
            "4     25.0    0         mclaren  McLaren       British   \n",
            "\n",
            "                                    url  status  result_driver_standing  \n",
            "0  http://en.wikipedia.org/wiki/McLaren  +1 Lap               298739826  \n",
            "1  http://en.wikipedia.org/wiki/McLaren  +1 Lap               299218806  \n",
            "2  http://en.wikipedia.org/wiki/McLaren  +1 Lap               299697786  \n",
            "3  http://en.wikipedia.org/wiki/McLaren  +1 Lap               300176766  \n",
            "4  http://en.wikipedia.org/wiki/McLaren  +1 Lap               300655746  \n",
            "\n",
            "[5 rows x 53 columns]\n"
          ]
        }
      ],
      "source": [
        "# Initial exploration\n",
        "print(train_df.head())\n",
        "print(test_df.head())"
      ]
    },
    {
      "cell_type": "code",
      "execution_count": null,
      "metadata": {
        "_cell_guid": "97047ea6-e827-4649-8ee5-8bf8c32c3338",
        "_uuid": "4e3bf016-7aa2-43c7-ab06-02b9598ca3c7",
        "execution": {
          "iopub.execute_input": "2024-06-28T15:06:30.661264Z",
          "iopub.status.busy": "2024-06-28T15:06:30.660942Z",
          "iopub.status.idle": "2024-06-28T15:06:30.666420Z",
          "shell.execute_reply": "2024-06-28T15:06:30.665329Z",
          "shell.execute_reply.started": "2024-06-28T15:06:30.661234Z"
        },
        "id": "ho0krQJu0nQo",
        "jupyter": {
          "outputs_hidden": false
        },
        "trusted": true,
        "colab": {
          "base_uri": "https://localhost:8080/"
        },
        "outputId": "7b2112b4-b894-4a60-b76b-9b4d09eee56b"
      },
      "outputs": [
        {
          "output_type": "stream",
          "name": "stdout",
          "text": [
            "(2830101, 55)\n",
            "(352928, 53)\n"
          ]
        }
      ],
      "source": [
        "print(train_df.shape)\n",
        "print(test_df.shape)"
      ]
    },
    {
      "cell_type": "code",
      "execution_count": null,
      "metadata": {
        "_cell_guid": "a95b4120-083c-434b-9c52-048baf71cca6",
        "_uuid": "25d9d543-92a4-4bba-abed-4ea62fdf3e7a",
        "execution": {
          "iopub.execute_input": "2024-06-28T15:06:30.667914Z",
          "iopub.status.busy": "2024-06-28T15:06:30.667571Z",
          "iopub.status.idle": "2024-06-28T15:06:30.677813Z",
          "shell.execute_reply": "2024-06-28T15:06:30.676955Z",
          "shell.execute_reply.started": "2024-06-28T15:06:30.667887Z"
        },
        "id": "etQ9Lnks03H1",
        "jupyter": {
          "outputs_hidden": false
        },
        "trusted": true,
        "colab": {
          "base_uri": "https://localhost:8080/"
        },
        "outputId": "173fb5ca-d65b-4709-a16b-062d03d5b1f0"
      },
      "outputs": [
        {
          "output_type": "stream",
          "name": "stdout",
          "text": [
            "Index(['resultId', 'racerId', 'driverId', 'constructorId', 'number', 'grid',\n",
            "       'position_x', 'positionText_x', 'positionOrder', 'points', 'laps',\n",
            "       'time_x', 'timetaken_in_millisec', 'fastestLap', 'rank',\n",
            "       'fastestLapTime', 'max_speed', 'statusId', 'year', 'round', 'circuitId',\n",
            "       'grand_prix', 'date', 'time_y', 'url_x', 'fp1_date', 'fp1_time',\n",
            "       'fp2_date', 'fp2_time', 'fp3_date', 'fp3_time', 'quali_date',\n",
            "       'quali_time', 'sprint_date', 'sprint_time', 'driverRef', 'driver_num',\n",
            "       'driver_code', 'forename', 'surname', 'dob', 'nationality', 'url_y',\n",
            "       'driverStandingsId', 'raceId_y', 'points_y', 'position',\n",
            "       'positionText_y', 'wins', 'constructorRef', 'company', 'nationality_y',\n",
            "       'url', 'status', 'result_driver_standing'],\n",
            "      dtype='object')\n",
            "Index(['resultId', 'racerId', 'driverId', 'constructorId', 'number', 'grid',\n",
            "       'position_x', 'positionText_x', 'positionOrder', 'points', 'laps',\n",
            "       'time_x', 'timetaken_in_millisec', 'fastestLap', 'rank',\n",
            "       'fastestLapTime', 'max_speed', 'statusId', 'year', 'round', 'circuitId',\n",
            "       'grand_prix', 'date', 'time_y', 'url_x', 'fp1_date', 'fp1_time',\n",
            "       'fp2_date', 'fp2_time', 'fp3_date', 'fp3_time', 'quali_date',\n",
            "       'quali_time', 'sprint_date', 'sprint_time', 'driverRef', 'driver_num',\n",
            "       'driver_code', 'forename', 'surname', 'dob', 'nationality', 'url_y',\n",
            "       'driverStandingsId', 'raceId_y', 'points_y', 'wins', 'constructorRef',\n",
            "       'company', 'nationality_y', 'url', 'status', 'result_driver_standing'],\n",
            "      dtype='object')\n"
          ]
        }
      ],
      "source": [
        "print(train_df.columns)\n",
        "print(test_df.columns)"
      ]
    },
    {
      "cell_type": "code",
      "execution_count": null,
      "metadata": {
        "_cell_guid": "73970299-36ab-43f2-afbd-9a09372a7f3d",
        "_uuid": "3fc2242d-4d94-43b9-8a83-cd48277f838e",
        "execution": {
          "iopub.execute_input": "2024-06-28T15:06:30.679183Z",
          "iopub.status.busy": "2024-06-28T15:06:30.678901Z",
          "iopub.status.idle": "2024-06-28T15:06:31.755620Z",
          "shell.execute_reply": "2024-06-28T15:06:31.754574Z",
          "shell.execute_reply.started": "2024-06-28T15:06:30.679154Z"
        },
        "id": "k3_y-sD71eJK",
        "jupyter": {
          "outputs_hidden": false
        },
        "trusted": true,
        "colab": {
          "base_uri": "https://localhost:8080/"
        },
        "outputId": "f2d20ef4-2073-4742-d55a-36bf99e24fb3"
      },
      "outputs": [
        {
          "output_type": "stream",
          "name": "stdout",
          "text": [
            "resultId                    int64\n",
            "racerId                     int64\n",
            "driverId                    int64\n",
            "constructorId               int64\n",
            "number                     object\n",
            "grid                        int64\n",
            "position_x                 object\n",
            "positionText_x             object\n",
            "positionOrder               int64\n",
            "points                    float64\n",
            "laps                        int64\n",
            "time_x                     object\n",
            "timetaken_in_millisec      object\n",
            "fastestLap                 object\n",
            "rank                       object\n",
            "fastestLapTime             object\n",
            "max_speed                  object\n",
            "statusId                    int64\n",
            "year                        int64\n",
            "round                       int64\n",
            "circuitId                   int64\n",
            "grand_prix                 object\n",
            "date                       object\n",
            "time_y                     object\n",
            "url_x                      object\n",
            "fp1_date                   object\n",
            "fp1_time                   object\n",
            "fp2_date                   object\n",
            "fp2_time                   object\n",
            "fp3_date                   object\n",
            "fp3_time                   object\n",
            "quali_date                 object\n",
            "quali_time                 object\n",
            "sprint_date                object\n",
            "sprint_time                object\n",
            "driverRef                  object\n",
            "driver_num                 object\n",
            "driver_code                object\n",
            "forename                   object\n",
            "surname                    object\n",
            "dob                        object\n",
            "nationality                object\n",
            "url_y                      object\n",
            "driverStandingsId           int64\n",
            "raceId_y                    int64\n",
            "points_y                  float64\n",
            "position                    int64\n",
            "positionText_y             object\n",
            "wins                        int64\n",
            "constructorRef             object\n",
            "company                    object\n",
            "nationality_y              object\n",
            "url                        object\n",
            "status                     object\n",
            "result_driver_standing      int64\n",
            "dtype: object\n",
            "           resultId       racerId      driverId  constructorId          grid  \\\n",
            "count  2.830101e+06  2.830101e+06  2.830101e+06   2.830101e+06  2.830101e+06   \n",
            "mean   9.787394e+03  3.963803e+02  1.380708e+02   3.360054e+01  9.927363e+00   \n",
            "std    6.597046e+03  2.523813e+02  1.618397e+02   4.787091e+01  6.739734e+00   \n",
            "min    1.000000e+00  1.000000e+00  1.000000e+00   1.000000e+00  0.000000e+00   \n",
            "25%    3.896000e+03  1.810000e+02  2.200000e+01   6.000000e+00  4.000000e+00   \n",
            "50%    9.179000e+03  3.730000e+02  9.500000e+01   1.700000e+01  9.000000e+00   \n",
            "75%    1.487100e+04  5.720000e+02  1.850000e+02   3.400000e+01  1.500000e+01   \n",
            "max    2.430500e+04  8.990000e+02  8.240000e+02   2.080000e+02  3.400000e+01   \n",
            "\n",
            "       positionOrder        points          laps      statusId          year  \\\n",
            "count   2.830101e+06  2.830101e+06  2.830101e+06  2.830101e+06  2.830101e+06   \n",
            "mean    1.166104e+01  2.134603e+00  4.695732e+01  1.415075e+01  1.991024e+03   \n",
            "std     7.631561e+00  4.043134e+00  2.645681e+01  2.246909e+01  1.508482e+01   \n",
            "min     1.000000e+00  0.000000e+00  0.000000e+00  1.000000e+00  1.950000e+03   \n",
            "25%     5.000000e+00  0.000000e+00  2.700000e+01  1.000000e+00  1.980000e+03   \n",
            "50%     1.100000e+01  0.000000e+00  5.300000e+01  6.000000e+00  1.992000e+03   \n",
            "75%     1.800000e+01  3.000000e+00  6.700000e+01  1.200000e+01  2.004000e+03   \n",
            "max     3.900000e+01  2.500000e+01  2.000000e+02  1.300000e+02  2.013000e+03   \n",
            "\n",
            "              round     circuitId  driverStandingsId      raceId_y  \\\n",
            "count  2.830101e+06  2.830101e+06       2.830101e+06  2.830101e+06   \n",
            "mean   8.455734e+00  2.109904e+01       3.466954e+04  4.359614e+02   \n",
            "std    4.803080e+00  1.645059e+01       2.380309e+04  2.764537e+02   \n",
            "min    1.000000e+00  1.000000e+00       1.000000e+00  1.000000e+00   \n",
            "25%    4.000000e+00  9.000000e+00       1.271200e+04  2.130000e+02   \n",
            "50%    8.000000e+00  1.700000e+01       2.173600e+04  4.060000e+02   \n",
            "75%    1.200000e+01  3.000000e+01       5.808600e+04  6.160000e+02   \n",
            "max    2.000000e+01  7.000000e+01       7.218700e+04  1.110000e+03   \n",
            "\n",
            "           points_y      position          wins  result_driver_standing  \n",
            "count  2.830101e+06  2.830101e+06  2.830101e+06            2.830101e+06  \n",
            "mean   2.000044e+01  1.233200e+01  4.967021e-01            4.021545e+08  \n",
            "std    3.956139e+01  9.663244e+00  1.333567e+00            4.346233e+08  \n",
            "min    0.000000e+00  1.000000e+00  0.000000e+00            1.000000e+00  \n",
            "25%    0.000000e+00  5.000000e+00  0.000000e+00            5.169145e+07  \n",
            "50%    6.000000e+00  1.000000e+01  0.000000e+00            1.982056e+08  \n",
            "75%    2.100000e+01  1.700000e+01  0.000000e+00            7.733493e+08  \n",
            "max    4.130000e+02  1.080000e+02  1.300000e+01            1.698907e+09  \n"
          ]
        }
      ],
      "source": [
        "print(train_df.dtypes)\n",
        "print(train_df.describe())"
      ]
    },
    {
      "cell_type": "markdown",
      "metadata": {
        "_cell_guid": "17423de4-c7f4-4e6e-a0c1-9f93e1988309",
        "_uuid": "2087c867-3cb1-446b-bf84-8471afbfe7a0",
        "id": "ozGsalzU5hHS",
        "trusted": true
      },
      "source": [
        "dropping columns"
      ]
    },
    {
      "cell_type": "code",
      "execution_count": null,
      "metadata": {
        "_cell_guid": "422e2ee2-f8d4-4b2b-840c-4b75d2655923",
        "_uuid": "962baa2d-6553-44cc-aad7-87a18b91f52b",
        "execution": {
          "iopub.execute_input": "2024-06-28T16:10:21.580468Z",
          "iopub.status.busy": "2024-06-28T16:10:21.580081Z",
          "iopub.status.idle": "2024-06-28T16:10:22.137817Z",
          "shell.execute_reply": "2024-06-28T16:10:22.136831Z",
          "shell.execute_reply.started": "2024-06-28T16:10:21.580436Z"
        },
        "id": "D9QMrP224uZr",
        "jupyter": {
          "outputs_hidden": false
        },
        "trusted": true,
        "colab": {
          "base_uri": "https://localhost:8080/"
        },
        "outputId": "ccd3bd61-d5d5-41d5-a718-8fa47997bec2"
      },
      "outputs": [
        {
          "output_type": "stream",
          "name": "stdout",
          "text": [
            "Train dataset shape after dropping columns: (2830101, 13)\n",
            "Test dataset shape after dropping columns: (352928, 12)\n"
          ]
        }
      ],
      "source": [
        "import numpy as np\n",
        "import pandas as pd\n",
        "import seaborn as sns\n",
        "import matplotlib.pyplot as plt\n",
        "\n",
        "columns_to_drop = ['resultId', 'constructorId', 'positionText_x', 'positionOrder', 'time_x',\n",
        "                   'fastestLap', 'rank', 'fastestLapTime', 'max_speed', 'statusId', 'circuitId', 'grand_prix',\n",
        "                   'date', 'time_y', 'url_x', 'fp1_date', 'fp1_time', 'fp2_date', 'fp2_time', 'fp3_date',\n",
        "                   'fp3_time', 'quali_date', 'quali_time', 'sprint_date', 'sprint_time', 'driverRef', 'driver_num',\n",
        "                   'driver_code', 'forename', 'surname', 'dob', 'nationality', 'url_y', 'driverStandingsId',\n",
        "                   'raceId_y', 'points_y', 'positionText_y', 'wins', 'constructorRef', 'company',\n",
        "                   'nationality_y', 'url']\n",
        "\n",
        "# Drop columns from the datasets\n",
        "train_df.drop(columns=columns_to_drop, inplace=True, errors='ignore')\n",
        "test_df.drop(columns=columns_to_drop, inplace=True, errors='ignore')\n",
        "\n",
        "# Print the shape of datasets after dropping columns (optional)\n",
        "print(\"Train dataset shape after dropping columns:\", train_df.shape)\n",
        "print(\"Test dataset shape after dropping columns:\", test_df.shape)\n"
      ]
    },
    {
      "cell_type": "code",
      "execution_count": null,
      "metadata": {
        "_cell_guid": "d8695a00-0306-445c-bb8b-b2647a89447b",
        "_uuid": "14d33b12-71bd-447d-8ec2-ef28c53407f7",
        "execution": {
          "iopub.execute_input": "2024-06-28T16:10:24.771320Z",
          "iopub.status.busy": "2024-06-28T16:10:24.770444Z",
          "iopub.status.idle": "2024-06-28T16:10:24.776692Z",
          "shell.execute_reply": "2024-06-28T16:10:24.775801Z",
          "shell.execute_reply.started": "2024-06-28T16:10:24.771277Z"
        },
        "id": "NJIex8f8KVB_",
        "jupyter": {
          "outputs_hidden": false
        },
        "trusted": true,
        "colab": {
          "base_uri": "https://localhost:8080/"
        },
        "outputId": "58dcb326-b9fe-4d68-a978-ec5b3fac0fa5"
      },
      "outputs": [
        {
          "output_type": "stream",
          "name": "stdout",
          "text": [
            "Index(['racerId', 'driverId', 'number', 'grid', 'position_x', 'points', 'laps',\n",
            "       'timetaken_in_millisec', 'year', 'round', 'position', 'status',\n",
            "       'result_driver_standing'],\n",
            "      dtype='object')\n",
            "Index(['racerId', 'driverId', 'number', 'grid', 'position_x', 'points', 'laps',\n",
            "       'timetaken_in_millisec', 'year', 'round', 'status',\n",
            "       'result_driver_standing'],\n",
            "      dtype='object')\n"
          ]
        }
      ],
      "source": [
        "print(train_df.columns)\n",
        "print(test_df.columns)"
      ]
    },
    {
      "cell_type": "code",
      "execution_count": null,
      "metadata": {
        "_cell_guid": "a3ded289-6c18-4d94-bb5c-b7d79f71bb63",
        "_uuid": "3f575e73-a296-4625-ac68-3eef41b7bdff",
        "execution": {
          "iopub.execute_input": "2024-06-28T16:10:29.783178Z",
          "iopub.status.busy": "2024-06-28T16:10:29.782078Z",
          "iopub.status.idle": "2024-06-28T16:10:30.935032Z",
          "shell.execute_reply": "2024-06-28T16:10:30.934083Z",
          "shell.execute_reply.started": "2024-06-28T16:10:29.783141Z"
        },
        "id": "AhF5tcWbPv_Q",
        "jupyter": {
          "outputs_hidden": false
        },
        "trusted": true,
        "colab": {
          "base_uri": "https://localhost:8080/"
        },
        "outputId": "26364022-11ce-42a8-8041-209c4767242a"
      },
      "outputs": [
        {
          "output_type": "stream",
          "name": "stdout",
          "text": [
            "Missing values in train dataset:\n",
            "racerId                   0\n",
            "driverId                  0\n",
            "number                    0\n",
            "grid                      0\n",
            "position_x                0\n",
            "points                    0\n",
            "laps                      0\n",
            "timetaken_in_millisec     0\n",
            "year                      0\n",
            "round                     0\n",
            "position                  0\n",
            "status                    0\n",
            "result_driver_standing    0\n",
            "dtype: int64\n",
            "\n",
            "Missing values in test dataset:\n",
            "racerId                   0\n",
            "driverId                  0\n",
            "number                    0\n",
            "grid                      0\n",
            "position_x                0\n",
            "points                    0\n",
            "laps                      0\n",
            "timetaken_in_millisec     0\n",
            "year                      0\n",
            "round                     0\n",
            "status                    0\n",
            "result_driver_standing    0\n",
            "dtype: int64\n"
          ]
        }
      ],
      "source": [
        "print(\"Missing values in train dataset:\")\n",
        "print(train_df.isnull().sum())\n",
        "\n",
        "print(\"\\nMissing values in test dataset:\")\n",
        "print(test_df.isnull().sum())"
      ]
    },
    {
      "cell_type": "code",
      "execution_count": null,
      "metadata": {
        "_cell_guid": "1d82fe77-1ff4-410c-952e-43c8fdf6dff0",
        "_uuid": "75007773-80a1-4efd-a755-00d5fe777bf6",
        "execution": {
          "iopub.execute_input": "2024-06-28T16:10:31.087575Z",
          "iopub.status.busy": "2024-06-28T16:10:31.086848Z",
          "iopub.status.idle": "2024-06-28T16:10:31.102520Z",
          "shell.execute_reply": "2024-06-28T16:10:31.101646Z",
          "shell.execute_reply.started": "2024-06-28T16:10:31.087546Z"
        },
        "id": "uDsGQqKgRUPS",
        "jupyter": {
          "outputs_hidden": false
        },
        "trusted": true
      },
      "outputs": [],
      "source": [
        "train_df['points_per_lap'] = train_df['points'] / train_df['laps']\n",
        "test_df['points_per_lap'] = test_df['points'] / test_df['laps']"
      ]
    },
    {
      "cell_type": "markdown",
      "metadata": {
        "_cell_guid": "7e2a73ff-71e6-464d-81ad-607e30f611bd",
        "_uuid": "284208c4-0c42-4756-887d-66ac436e27bc",
        "id": "-jKkQG4iS4E9",
        "trusted": true
      },
      "source": [
        "Preprocess data-"
      ]
    },
    {
      "cell_type": "code",
      "source": [
        "import pandas as pd\n",
        "import numpy as np\n",
        "from sklearn.preprocessing import StandardScaler, OneHotEncoder\n",
        "from sklearn.impute import SimpleImputer\n",
        "from sklearn.compose import ColumnTransformer\n",
        "from sklearn.pipeline import Pipeline\n",
        "from sklearn.ensemble import RandomForestRegressor\n",
        "import matplotlib.pyplot as plt\n",
        "\n",
        "# Assuming train_df and test_df are already loaded and preprocessed\n",
        "# Replace non-numeric values in numeric columns with NaN\n",
        "numeric_columns = ['number', 'grid', 'points', 'laps', 'timetaken_in_millisec', 'year', 'round', 'result_driver_standing', 'points_per_lap']\n",
        "train_df[numeric_columns] = train_df[numeric_columns].apply(pd.to_numeric, errors='coerce')\n",
        "test_df[numeric_columns] = test_df[numeric_columns].apply(pd.to_numeric, errors='coerce')\n",
        "\n",
        "# Create target variable (adjust as needed for your specific prediction task)\n",
        "train_df['final_position'] = train_df.groupby(['racerId', 'driverId'])['position'].shift(-1)\n",
        "train_df.dropna(subset=['final_position'], inplace=True)\n",
        "\n",
        "# Use only 200,000 rows of data due to RAM limitations\n",
        "train_df = train_df.sample(n=200000, random_state=42)\n",
        "test_df = test_df.sample(n=20000, random_state=42)\n",
        "\n",
        "# Define features\n",
        "numeric_features = ['number', 'grid', 'points', 'laps', 'timetaken_in_millisec', 'year', 'round', 'result_driver_standing', 'points_per_lap']\n",
        "categorical_features = ['position_x', 'status']\n",
        "\n",
        "# Create preprocessing pipelines\n",
        "numeric_transformer = Pipeline(steps=[\n",
        "    ('imputer', SimpleImputer(strategy='median')),\n",
        "    ('scaler', StandardScaler())\n",
        "])\n",
        "\n",
        "categorical_transformer = Pipeline(steps=[\n",
        "    ('imputer', SimpleImputer(strategy='constant', fill_value='missing')),\n",
        "    ('onehot', OneHotEncoder(handle_unknown='ignore'))\n",
        "])\n",
        "\n",
        "preprocessor = ColumnTransformer(\n",
        "    transformers=[\n",
        "        ('num', numeric_transformer, numeric_features),\n",
        "        ('cat', categorical_transformer, categorical_features)\n",
        "    ])\n",
        "\n",
        "# Fit the preprocessor on the training data\n",
        "X_train = preprocessor.fit_transform(train_df)\n",
        "X_test = preprocessor.transform(test_df)\n",
        "\n",
        "# Check the shape of the transformed data\n",
        "print(f\"Shape of X_train after preprocessing: {X_train.shape}\")\n",
        "print(f\"Shape of X_test after preprocessing: {X_test.shape}\")\n",
        "\n",
        "# Get feature names after preprocessing\n",
        "numeric_feature_names = numeric_features\n",
        "categorical_feature_names = preprocessor.named_transformers_['cat'].named_steps['onehot'].get_feature_names_out(categorical_features).tolist()\n",
        "feature_names = numeric_feature_names + categorical_feature_names\n",
        "\n",
        "# Check the length of feature names\n",
        "print(f\"Number of feature names: {len(feature_names)}\")\n",
        "\n",
        "# Create DataFrames with preprocessed data\n",
        "X_train_df = pd.DataFrame(X_train.toarray() if hasattr(X_train, \"toarray\") else X_train, columns=feature_names)\n",
        "X_test_df = pd.DataFrame(X_test.toarray() if hasattr(X_test, \"toarray\") else X_test, columns=feature_names)\n",
        "\n",
        "# Add the target variable to the training data\n",
        "y_train = train_df['final_position']\n",
        "\n",
        "# Train a RandomForestRegressor (adjust parameters as needed)\n",
        "rf_model = RandomForestRegressor(n_estimators=100, random_state=42)\n",
        "rf_model.fit(X_train_df, y_train)\n",
        "\n",
        "# Make predictions on the test set\n",
        "test_predictions = rf_model.predict(X_test_df)\n",
        "\n",
        "# Add predictions to the test dataframe\n",
        "test_df['predicted_final_position'] = test_predictions\n",
        "\n",
        "# Save the predictions\n",
        "test_df[['racerId', 'driverId', 'predicted_final_position']].to_csv('random_forest_predictions.csv', index=False)\n",
        "\n",
        "print(\"\\nPredictions saved to 'random_forest_predictions.csv'\")\n"
      ],
      "metadata": {
        "id": "0WxepicQPRfq",
        "colab": {
          "base_uri": "https://localhost:8080/"
        },
        "outputId": "301d7184-e73f-4d5d-962f-8c327a1c2dbf"
      },
      "execution_count": null,
      "outputs": [
        {
          "output_type": "stream",
          "name": "stdout",
          "text": [
            "Shape of X_train after preprocessing: (200000, 164)\n",
            "Shape of X_test after preprocessing: (20000, 164)\n",
            "Number of feature names: 164\n",
            "\n",
            "Predictions saved to 'random_forest_predictions.csv'\n"
          ]
        }
      ]
    },
    {
      "cell_type": "code",
      "execution_count": null,
      "metadata": {
        "execution": {
          "iopub.execute_input": "2024-06-28T16:11:33.547556Z",
          "iopub.status.busy": "2024-06-28T16:11:33.547150Z",
          "iopub.status.idle": "2024-06-28T16:11:39.433036Z",
          "shell.execute_reply": "2024-06-28T16:11:39.432053Z",
          "shell.execute_reply.started": "2024-06-28T16:11:33.547523Z"
        },
        "trusted": true,
        "id": "PGbF9hHVIVSy"
      },
      "outputs": [],
      "source": [
        "# import numpy as np\n",
        "# import pandas as pd\n",
        "# import seaborn as sns\n",
        "# import matplotlib.pyplot as plt\n",
        "\n",
        "# # Specify the lap to predict\n",
        "# lap_to_predict = 15\n",
        "\n",
        "# # Adjust 'position' to represent final position for a particular lap\n",
        "# train_df['final_position'] = train_df.groupby(['racerId', 'driverId'])['position'].shift(-lap_to_predict + 1)\n",
        "# train_df.dropna(subset=['final_position'], inplace=True)\n",
        "\n",
        "# # Feature selection (modify as per your actual features)\n",
        "# selected_features = ['number', 'grid', 'position_x', 'points', 'laps', 'timetaken_in_millisec', 'year', 'round', 'result_driver_standing', 'points_per_lap']\n",
        "\n",
        "# # Convert applicable columns to numeric types\n",
        "# numeric_columns = ['number', 'grid', 'points', 'laps', 'timetaken_in_millisec', 'year', 'round', 'points_per_lap', 'result_driver_standing']\n",
        "# train_df[numeric_columns] = train_df[numeric_columns].apply(pd.to_numeric, errors='coerce')\n",
        "# test_df[numeric_columns] = test_df[numeric_columns].apply(pd.to_numeric, errors='coerce')\n",
        "\n",
        "# # Handle missing values for numeric columns\n",
        "# train_df[numeric_columns] = train_df[numeric_columns].fillna(train_df[numeric_columns].mean())\n",
        "# test_df[numeric_columns] = test_df[numeric_columns].fillna(test_df[numeric_columns].mean())\n",
        "\n",
        "# # Convert 'position_x' to one-hot encoding if it's categorical\n",
        "# train_df = pd.get_dummies(train_df, columns=['position_x'])\n",
        "# test_df = pd.get_dummies(test_df, columns=['position_x'])\n",
        "\n",
        "# # Convert 'status' column to one-hot encoding\n",
        "# status_columns = [col for col in train_df.columns if col.startswith('status_')]\n",
        "# train_df[status_columns] = train_df[status_columns].astype(bool)\n",
        "# test_df[status_columns] = test_df[status_columns].astype(bool)\n",
        "\n",
        "# # Print updated dataset information\n",
        "# print(\"\\nTrain dataset after preprocessing:\")\n",
        "# print(train_df.info())\n",
        "\n",
        "# print(\"\\nTest dataset after preprocessing:\")\n",
        "# print(test_df.info())\n"
      ]
    }
  ],
  "metadata": {
    "accelerator": "GPU",
    "colab": {
      "gpuType": "T4",
      "provenance": [],
      "include_colab_link": true
    },
    "kaggle": {
      "accelerator": "nvidiaTeslaT4",
      "dataSources": [
        {
          "databundleVersionId": 8965849,
          "sourceId": 82253,
          "sourceType": "competition"
        }
      ],
      "dockerImageVersionId": 30733,
      "isGpuEnabled": true,
      "isInternetEnabled": true,
      "language": "python",
      "sourceType": "notebook"
    },
    "kernelspec": {
      "display_name": "Python 3",
      "language": "python",
      "name": "python3"
    },
    "language_info": {
      "codemirror_mode": {
        "name": "ipython",
        "version": 3
      },
      "file_extension": ".py",
      "mimetype": "text/x-python",
      "name": "python",
      "nbconvert_exporter": "python",
      "pygments_lexer": "ipython3",
      "version": "3.10.13"
    }
  },
  "nbformat": 4,
  "nbformat_minor": 0
}